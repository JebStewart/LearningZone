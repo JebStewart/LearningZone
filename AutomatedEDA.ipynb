{
 "metadata": {
  "language_info": {
   "codemirror_mode": {
    "name": "ipython",
    "version": 3
   },
   "file_extension": ".py",
   "mimetype": "text/x-python",
   "name": "python",
   "nbconvert_exporter": "python",
   "pygments_lexer": "ipython3",
   "version": "3.6.9-final"
  },
  "orig_nbformat": 2,
  "kernelspec": {
   "name": "python36964bitdatasciencevenvccabe2585f8e4956bd27aa6a84fc91d3",
   "display_name": "Python 3.6.9 64-bit ('DataScience': venv)"
  }
 },
 "nbformat": 4,
 "nbformat_minor": 2,
 "cells": [
  {
   "cell_type": "code",
   "execution_count": 1,
   "metadata": {},
   "outputs": [],
   "source": [
    "import pandas as pd\n",
    "import plotly.express as px\n",
    "import plotly.graph_objects as go\n",
    "from sklearn.cluster import KMeans"
   ]
  },
  {
   "cell_type": "code",
   "execution_count": null,
   "metadata": {},
   "outputs": [],
   "source": [
    "class Sanitizer:\n",
    "    def __init__(self, df):\n",
    "        \"\"\"\n",
    "        This class handles common sanitizations of a class including the following:\n",
    "        - Missing Values\n",
    "        - Mixed data types\n",
    "        \"\"\"\n",
    "        self.df = df\n",
    "    \n",
    "    def handle_missing_values(self):\n",
    "         columns = self._identify_missing_value_columns(self.df)\n",
    "         #how many missing in each missing col\n",
    "         #identify what to do\n",
    "         # \n",
    "         #  \n",
    "    def _identify_missing_value_columns(self, df):\n",
    "        return [column for i in df.columns if df[columns].isnull().any()]\n",
    "\n",
    "    def _id_missing_value_strategy(self, columns):\n",
    "\n"
   ]
  },
  {
   "cell_type": "code",
   "execution_count": 2,
   "metadata": {},
   "outputs": [],
   "source": [
    "class AutoCluster:\n",
    "    def __init__(self):\n",
    "        pass\n",
    "    class AutoKMeans:\n",
    "        def __init__(self):\n",
    "            \"\"\"\n",
    "            Automatically performs K Means Clustering on a given data set to give an optimal\n",
    "            number of clusters and their centroid coordinates.\n",
    "            Note: All data should be preprocessed before being fed through this.\n",
    "            \"\"\"\n",
    "            self.results = pd.DataFrame()\n",
    "\n",
    "        def sweep_fit(self, data, max_clusters = 20):\n",
    "            \"\"\"Finds clusters for all n_clusters from 1 to max_clusters.\"\"\"\n",
    "            clusters = []\n",
    "            inertia = []\n",
    "            for i in range(1, max_clusters):\n",
    "                KM = KMeans(n_clusters=i)\n",
    "                KM.fit(data)\n",
    "                inertia.append(KM.inertia_)\n",
    "                clusters.append(i)\n",
    "            self.results['Clusters'] = clusters\n",
    "            self.results['Inertia'] = inertia\n",
    "            return True\n",
    "\n",
    "        def cluster_fig(self):\n",
    "            \"\"\"Plots number of clusters against inertia.\"\"\"\n",
    "            fig = px.line(self.results, x='Clusters', y='Inertia')\n",
    "            fig.show()\n",
    "\n",
    "        def find_optimal_clusters_amount(self):\n",
    "            \"\"\"\n",
    "            Regress two lines against the Clusters vs Inertia plot. Use cluster minimum and cluster \n",
    "            maximum for one endpoint each, then use a middle point as a shared secondary endpoint. \n",
    "            Minimize for sum of errors between them and return the shared endpoint.\n",
    "            \"\"\"\n",
    "            pass\n"
   ]
  },
  {
   "cell_type": "code",
   "execution_count": null,
   "metadata": {},
   "outputs": [],
   "source": []
  }
 ]
}