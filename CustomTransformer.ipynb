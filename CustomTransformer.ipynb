{
 "metadata": {
  "language_info": {
   "codemirror_mode": {
    "name": "ipython",
    "version": 3
   },
   "file_extension": ".py",
   "mimetype": "text/x-python",
   "name": "python",
   "nbconvert_exporter": "python",
   "pygments_lexer": "ipython3",
   "version": "3.7.9"
  },
  "orig_nbformat": 2,
  "kernelspec": {
   "name": "python379jvsc74a57bd001fe7e13086799c49d0c7388f04578403b5f01cf974d83ae0de2c8d4739c824a",
   "display_name": "Python 3.7.9 64-bit"
  }
 },
 "nbformat": 4,
 "nbformat_minor": 2,
 "cells": [
  {
   "cell_type": "code",
   "execution_count": 1,
   "metadata": {},
   "outputs": [],
   "source": [
    "import yfinance as yf\n",
    "from datetime import date"
   ]
  },
  {
   "source": [
    "# Purpose\n",
    "\n",
    "This notebook is where I am going to explore making my own transformers and pipelines"
   ],
   "cell_type": "markdown",
   "metadata": {}
  },
  {
   "cell_type": "code",
   "execution_count": 4,
   "metadata": {},
   "outputs": [],
   "source": [
    "ticker = yf.Ticker('BTC')\n",
    "df = ticker.history(start=date(2021, 5, 1), end=date(2021, 7, 1))"
   ]
  },
  {
   "cell_type": "code",
   "execution_count": 5,
   "metadata": {},
   "outputs": [
    {
     "output_type": "execute_result",
     "data": {
      "text/plain": [
       "                 Open       High        Low      Close  Volume  Dividends  \\\n",
       "Date                                                                        \n",
       "2021-05-03  98.910004  98.945000  98.910004  98.944603    2307          0   \n",
       "2021-05-04  98.959999  99.050003  98.959999  98.985001    2847          0   \n",
       "2021-05-05  99.000000  99.059998  98.994003  99.059998    2950          0   \n",
       "2021-05-06  99.099998  99.100998  99.030998  99.074997    4313          0   \n",
       "2021-05-07  99.150002  99.214996  99.147499  99.147499    1834          0   \n",
       "2021-05-10  99.199997  99.199997  99.070000  99.110001    2968          0   \n",
       "2021-05-11  99.110001  99.110001  99.110001  99.110001       0          0   \n",
       "\n",
       "            Stock Splits  \n",
       "Date                      \n",
       "2021-05-03             0  \n",
       "2021-05-04             0  \n",
       "2021-05-05             0  \n",
       "2021-05-06             0  \n",
       "2021-05-07             0  \n",
       "2021-05-10             0  \n",
       "2021-05-11             0  "
      ],
      "text/html": "<div>\n<style scoped>\n    .dataframe tbody tr th:only-of-type {\n        vertical-align: middle;\n    }\n\n    .dataframe tbody tr th {\n        vertical-align: top;\n    }\n\n    .dataframe thead th {\n        text-align: right;\n    }\n</style>\n<table border=\"1\" class=\"dataframe\">\n  <thead>\n    <tr style=\"text-align: right;\">\n      <th></th>\n      <th>Open</th>\n      <th>High</th>\n      <th>Low</th>\n      <th>Close</th>\n      <th>Volume</th>\n      <th>Dividends</th>\n      <th>Stock Splits</th>\n    </tr>\n    <tr>\n      <th>Date</th>\n      <th></th>\n      <th></th>\n      <th></th>\n      <th></th>\n      <th></th>\n      <th></th>\n      <th></th>\n    </tr>\n  </thead>\n  <tbody>\n    <tr>\n      <th>2021-05-03</th>\n      <td>98.910004</td>\n      <td>98.945000</td>\n      <td>98.910004</td>\n      <td>98.944603</td>\n      <td>2307</td>\n      <td>0</td>\n      <td>0</td>\n    </tr>\n    <tr>\n      <th>2021-05-04</th>\n      <td>98.959999</td>\n      <td>99.050003</td>\n      <td>98.959999</td>\n      <td>98.985001</td>\n      <td>2847</td>\n      <td>0</td>\n      <td>0</td>\n    </tr>\n    <tr>\n      <th>2021-05-05</th>\n      <td>99.000000</td>\n      <td>99.059998</td>\n      <td>98.994003</td>\n      <td>99.059998</td>\n      <td>2950</td>\n      <td>0</td>\n      <td>0</td>\n    </tr>\n    <tr>\n      <th>2021-05-06</th>\n      <td>99.099998</td>\n      <td>99.100998</td>\n      <td>99.030998</td>\n      <td>99.074997</td>\n      <td>4313</td>\n      <td>0</td>\n      <td>0</td>\n    </tr>\n    <tr>\n      <th>2021-05-07</th>\n      <td>99.150002</td>\n      <td>99.214996</td>\n      <td>99.147499</td>\n      <td>99.147499</td>\n      <td>1834</td>\n      <td>0</td>\n      <td>0</td>\n    </tr>\n    <tr>\n      <th>2021-05-10</th>\n      <td>99.199997</td>\n      <td>99.199997</td>\n      <td>99.070000</td>\n      <td>99.110001</td>\n      <td>2968</td>\n      <td>0</td>\n      <td>0</td>\n    </tr>\n    <tr>\n      <th>2021-05-11</th>\n      <td>99.110001</td>\n      <td>99.110001</td>\n      <td>99.110001</td>\n      <td>99.110001</td>\n      <td>0</td>\n      <td>0</td>\n      <td>0</td>\n    </tr>\n  </tbody>\n</table>\n</div>"
     },
     "metadata": {},
     "execution_count": 5
    }
   ],
   "source": [
    "df"
   ]
  },
  {
   "cell_type": "code",
   "execution_count": null,
   "metadata": {},
   "outputs": [],
   "source": []
  }
 ]
}